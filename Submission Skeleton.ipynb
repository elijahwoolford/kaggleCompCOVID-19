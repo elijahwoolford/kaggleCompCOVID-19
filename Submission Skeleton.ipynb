{
 "cells": [
  {
   "cell_type": "markdown",
   "metadata": {},
   "source": [
    "Guidance on ways to scale up NPIs in a more coordinated way (e.g., establish funding, infrastructure and authorities to support real time, authoritative (qualified participants) collaboration with all states to gain consensus on consistent guidance and to mobilize resources to geographic areas where critical shortfalls are identified) to give us time to enhance our health care delivery system capacity to respond to an increase in cases.\n",
    "\n",
    "Rapid design and execution of experiments to examine and compare NPIs currently being implemented. DHS Centers for Excellence could potentially be leveraged to conduct these experiments.\n",
    "\n",
    "Rapid assessment of the likely efficacy of school closures, travel bans, bans on mass gatherings of various sizes, and other social distancing approaches.\n",
    "\n",
    "Methods to control the spread in communities, barriers to compliance and how these vary among different populations.\n",
    "\n",
    "Models of potential interventions to predict costs and benefits that take account of such factors as race, income, disability, age, geographic location, immigration status, housing status, employment status, and health insurance status.\n",
    "\n",
    "Policy changes necessary to enable the compliance of individuals with limited resources and the underserved with NPIs.\n",
    "\n",
    "Research on why people fail to comply with public health advice, even if they want to do so (e.g., social or financial costs may be too high).\n",
    "\n",
    "Research on the economic impact of this or any pandemic. This would include identifying policy and programmatic alternatives that lessen/mitigate risks to critical government services, food distribution and supplies, access to critical household supplies, and access to health diagnoses, treatment, and needed care, regardless of ability to pay."
   ]
  },
  {
   "cell_type": "code",
   "execution_count": 1,
   "metadata": {},
   "outputs": [],
   "source": [
    "# Literature Review\n",
    "# What are the most common forms of non-pharmaceutical intervention? (term frequency count)\n",
    "# Is it possible to do sentiment analysis with the sentences extracted\n",
    "# Can we extract the sentences with numbers?\n",
    "# Cost versus benefit"
   ]
  },
  {
   "cell_type": "code",
   "execution_count": 2,
   "metadata": {},
   "outputs": [],
   "source": [
    "# Baseline measure of R0\n",
    "# Can we use R0 to measure the curve?\n",
    "# Do the initial US curves follow our estimate of R0?\n",
    "# Is there any state that hasn't done any intervention that follows this R0?"
   ]
  },
  {
   "cell_type": "code",
   "execution_count": 3,
   "metadata": {},
   "outputs": [],
   "source": [
    "# School closures in the US. Did the curve trajectory change?"
   ]
  },
  {
   "cell_type": "code",
   "execution_count": null,
   "metadata": {},
   "outputs": [],
   "source": [
    "# Can we repeat school analysis for social distancing?"
   ]
  }
 ],
 "metadata": {
  "kernelspec": {
   "display_name": "Python 3",
   "language": "python",
   "name": "python3"
  },
  "language_info": {
   "codemirror_mode": {
    "name": "ipython",
    "version": 3
   },
   "file_extension": ".py",
   "mimetype": "text/x-python",
   "name": "python",
   "nbconvert_exporter": "python",
   "pygments_lexer": "ipython3",
   "version": "3.7.4"
  }
 },
 "nbformat": 4,
 "nbformat_minor": 2
}
